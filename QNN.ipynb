{
  "nbformat": 4,
  "nbformat_minor": 0,
  "metadata": {
    "colab": {
      "provenance": [],
      "authorship_tag": "ABX9TyODzNYl/WNyhKymKF6rD6aX",
      "include_colab_link": true
    },
    "kernelspec": {
      "name": "python3",
      "display_name": "Python 3"
    },
    "language_info": {
      "name": "python"
    }
  },
  "cells": [
    {
      "cell_type": "markdown",
      "metadata": {
        "id": "view-in-github",
        "colab_type": "text"
      },
      "source": [
        "<a href=\"https://colab.research.google.com/github/ShashankaShekharSharma/100-days-of-code-youtube/blob/main/QNN.ipynb\" target=\"_parent\"><img src=\"https://colab.research.google.com/assets/colab-badge.svg\" alt=\"Open In Colab\"/></a>"
      ]
    },
    {
      "cell_type": "markdown",
      "source": [
        "# Advantages of Quantum Machine Learning\n",
        "\n",
        "1. **Quantum Speedup:** Quantum computers have the potential to provide exponential speedup for certain tasks compared to classical computers. This speedup is particularly advantageous for solving complex optimization problems and linear algebra tasks, which are common in machine learning.\n",
        "\n",
        "2. **Enhanced Parallelism:** Quantum algorithms can process and analyze information in parallel due to the principles of superposition and entanglement. This parallelism can lead to faster computations, especially for large-scale datasets and complex models.\n",
        "\n",
        "3. **Feature Mapping:** Quantum algorithms can efficiently handle high-dimensional feature spaces through techniques like quantum feature mapping. This can be beneficial for processing complex data with a large number of features, as is often encountered in machine learning applications.\n",
        "\n",
        "4. **Potential for New Algorithms:** Quantum computing allows for the exploration and development of entirely new algorithms designed to leverage the unique properties of quantum systems. These algorithms could outperform classical counterparts in specific tasks.\n",
        "\n",
        "5. **Improved Optimization:** Quantum computers could enhance optimization tasks crucial for machine learning, such as parameter tuning and training deep neural networks. Quantum optimization algorithms may outperform classical counterparts for certain optimization landscapes.\n",
        "\n",
        "6. **Privacy-Preserving Machine Learning:** Quantum technologies, such as quantum key distribution, can be applied to enhance the security and privacy of machine learning models, particularly in scenarios where data privacy is a critical concern.\n"
      ],
      "metadata": {
        "id": "qyBbKDCYRehc"
      }
    },
    {
      "cell_type": "markdown",
      "source": [
        "# Franworks that can be used for Quantum Computing\n",
        "1. Cirq\n",
        "2. PennyLane\n",
        "3. ProjectQ\n",
        "4. Quipper\n",
        "5. Strawberry Fields\n",
        "6. Yao.jl\n",
        "7. D Wave Ocean SDK\n",
        "8. Quantum Inspire"
      ],
      "metadata": {
        "id": "liHc9Ghszz3d"
      }
    },
    {
      "cell_type": "code",
      "source": [
        "!pip install qiskit\n",
        "!pip install qiskit-aer\n",
        "!pip install pylatexenc"
      ],
      "metadata": {
        "colab": {
          "base_uri": "https://localhost:8080/"
        },
        "id": "EWS9Gv2wRlb5",
        "outputId": "2c934227-2692-4ef2-dd60-482104c4d3f5"
      },
      "execution_count": null,
      "outputs": [
        {
          "output_type": "stream",
          "name": "stdout",
          "text": [
            "Collecting qiskit\n",
            "  Downloading qiskit-1.2.1-cp38-abi3-manylinux_2_17_x86_64.manylinux2014_x86_64.whl.metadata (12 kB)\n",
            "Collecting rustworkx>=0.15.0 (from qiskit)\n",
            "  Downloading rustworkx-0.15.1-cp38-abi3-manylinux_2_17_x86_64.manylinux2014_x86_64.whl.metadata (9.9 kB)\n",
            "Requirement already satisfied: numpy<3,>=1.17 in /usr/local/lib/python3.10/dist-packages (from qiskit) (1.26.4)\n",
            "Requirement already satisfied: scipy>=1.5 in /usr/local/lib/python3.10/dist-packages (from qiskit) (1.13.1)\n",
            "Requirement already satisfied: sympy>=1.3 in /usr/local/lib/python3.10/dist-packages (from qiskit) (1.13.2)\n",
            "Collecting dill>=0.3 (from qiskit)\n",
            "  Downloading dill-0.3.8-py3-none-any.whl.metadata (10 kB)\n",
            "Requirement already satisfied: python-dateutil>=2.8.0 in /usr/local/lib/python3.10/dist-packages (from qiskit) (2.8.2)\n",
            "Collecting stevedore>=3.0.0 (from qiskit)\n",
            "  Downloading stevedore-5.3.0-py3-none-any.whl.metadata (2.3 kB)\n",
            "Requirement already satisfied: typing-extensions in /usr/local/lib/python3.10/dist-packages (from qiskit) (4.12.2)\n",
            "Collecting symengine>=0.11 (from qiskit)\n",
            "  Downloading symengine-0.11.0-cp310-cp310-manylinux_2_12_x86_64.manylinux2010_x86_64.whl.metadata (1.2 kB)\n",
            "Requirement already satisfied: six>=1.5 in /usr/local/lib/python3.10/dist-packages (from python-dateutil>=2.8.0->qiskit) (1.16.0)\n",
            "Collecting pbr>=2.0.0 (from stevedore>=3.0.0->qiskit)\n",
            "  Downloading pbr-6.1.0-py2.py3-none-any.whl.metadata (3.4 kB)\n",
            "Requirement already satisfied: mpmath<1.4,>=1.1.0 in /usr/local/lib/python3.10/dist-packages (from sympy>=1.3->qiskit) (1.3.0)\n",
            "Downloading qiskit-1.2.1-cp38-abi3-manylinux_2_17_x86_64.manylinux2014_x86_64.whl (4.7 MB)\n",
            "\u001b[2K   \u001b[90m━━━━━━━━━━━━━━━━━━━━━━━━━━━━━━━━━━━━━━━━\u001b[0m \u001b[32m4.7/4.7 MB\u001b[0m \u001b[31m15.9 MB/s\u001b[0m eta \u001b[36m0:00:00\u001b[0m\n",
            "\u001b[?25hDownloading dill-0.3.8-py3-none-any.whl (116 kB)\n",
            "\u001b[2K   \u001b[90m━━━━━━━━━━━━━━━━━━━━━━━━━━━━━━━━━━━━━━━━\u001b[0m \u001b[32m116.3/116.3 kB\u001b[0m \u001b[31m6.0 MB/s\u001b[0m eta \u001b[36m0:00:00\u001b[0m\n",
            "\u001b[?25hDownloading rustworkx-0.15.1-cp38-abi3-manylinux_2_17_x86_64.manylinux2014_x86_64.whl (2.0 MB)\n",
            "\u001b[2K   \u001b[90m━━━━━━━━━━━━━━━━━━━━━━━━━━━━━━━━━━━━━━━━\u001b[0m \u001b[32m2.0/2.0 MB\u001b[0m \u001b[31m18.4 MB/s\u001b[0m eta \u001b[36m0:00:00\u001b[0m\n",
            "\u001b[?25hDownloading stevedore-5.3.0-py3-none-any.whl (49 kB)\n",
            "\u001b[2K   \u001b[90m━━━━━━━━━━━━━━━━━━━━━━━━━━━━━━━━━━━━━━━━\u001b[0m \u001b[32m49.7/49.7 kB\u001b[0m \u001b[31m2.0 MB/s\u001b[0m eta \u001b[36m0:00:00\u001b[0m\n",
            "\u001b[?25hDownloading symengine-0.11.0-cp310-cp310-manylinux_2_12_x86_64.manylinux2010_x86_64.whl (39.4 MB)\n",
            "\u001b[2K   \u001b[90m━━━━━━━━━━━━━━━━━━━━━━━━━━━━━━━━━━━━━━━━\u001b[0m \u001b[32m39.4/39.4 MB\u001b[0m \u001b[31m16.7 MB/s\u001b[0m eta \u001b[36m0:00:00\u001b[0m\n",
            "\u001b[?25hDownloading pbr-6.1.0-py2.py3-none-any.whl (108 kB)\n",
            "\u001b[2K   \u001b[90m━━━━━━━━━━━━━━━━━━━━━━━━━━━━━━━━━━━━━━━━\u001b[0m \u001b[32m108.5/108.5 kB\u001b[0m \u001b[31m5.0 MB/s\u001b[0m eta \u001b[36m0:00:00\u001b[0m\n",
            "\u001b[?25hInstalling collected packages: symengine, rustworkx, pbr, dill, stevedore, qiskit\n",
            "Successfully installed dill-0.3.8 pbr-6.1.0 qiskit-1.2.1 rustworkx-0.15.1 stevedore-5.3.0 symengine-0.11.0\n",
            "Collecting qiskit-aer\n",
            "  Downloading qiskit_aer-0.15.1-cp310-cp310-manylinux_2_17_x86_64.manylinux2014_x86_64.whl.metadata (8.0 kB)\n",
            "Requirement already satisfied: qiskit>=1.1.0 in /usr/local/lib/python3.10/dist-packages (from qiskit-aer) (1.2.1)\n",
            "Requirement already satisfied: numpy>=1.16.3 in /usr/local/lib/python3.10/dist-packages (from qiskit-aer) (1.26.4)\n",
            "Requirement already satisfied: scipy>=1.0 in /usr/local/lib/python3.10/dist-packages (from qiskit-aer) (1.13.1)\n",
            "Requirement already satisfied: psutil>=5 in /usr/local/lib/python3.10/dist-packages (from qiskit-aer) (5.9.5)\n",
            "Requirement already satisfied: rustworkx>=0.15.0 in /usr/local/lib/python3.10/dist-packages (from qiskit>=1.1.0->qiskit-aer) (0.15.1)\n",
            "Requirement already satisfied: sympy>=1.3 in /usr/local/lib/python3.10/dist-packages (from qiskit>=1.1.0->qiskit-aer) (1.13.2)\n",
            "Requirement already satisfied: dill>=0.3 in /usr/local/lib/python3.10/dist-packages (from qiskit>=1.1.0->qiskit-aer) (0.3.8)\n",
            "Requirement already satisfied: python-dateutil>=2.8.0 in /usr/local/lib/python3.10/dist-packages (from qiskit>=1.1.0->qiskit-aer) (2.8.2)\n",
            "Requirement already satisfied: stevedore>=3.0.0 in /usr/local/lib/python3.10/dist-packages (from qiskit>=1.1.0->qiskit-aer) (5.3.0)\n",
            "Requirement already satisfied: typing-extensions in /usr/local/lib/python3.10/dist-packages (from qiskit>=1.1.0->qiskit-aer) (4.12.2)\n",
            "Requirement already satisfied: symengine>=0.11 in /usr/local/lib/python3.10/dist-packages (from qiskit>=1.1.0->qiskit-aer) (0.11.0)\n",
            "Requirement already satisfied: six>=1.5 in /usr/local/lib/python3.10/dist-packages (from python-dateutil>=2.8.0->qiskit>=1.1.0->qiskit-aer) (1.16.0)\n",
            "Requirement already satisfied: pbr>=2.0.0 in /usr/local/lib/python3.10/dist-packages (from stevedore>=3.0.0->qiskit>=1.1.0->qiskit-aer) (6.1.0)\n",
            "Requirement already satisfied: mpmath<1.4,>=1.1.0 in /usr/local/lib/python3.10/dist-packages (from sympy>=1.3->qiskit>=1.1.0->qiskit-aer) (1.3.0)\n",
            "Downloading qiskit_aer-0.15.1-cp310-cp310-manylinux_2_17_x86_64.manylinux2014_x86_64.whl (12.3 MB)\n",
            "\u001b[2K   \u001b[90m━━━━━━━━━━━━━━━━━━━━━━━━━━━━━━━━━━━━━━━━\u001b[0m \u001b[32m12.3/12.3 MB\u001b[0m \u001b[31m26.6 MB/s\u001b[0m eta \u001b[36m0:00:00\u001b[0m\n",
            "\u001b[?25hInstalling collected packages: qiskit-aer\n",
            "Successfully installed qiskit-aer-0.15.1\n",
            "Collecting pylatexenc\n",
            "  Downloading pylatexenc-2.10.tar.gz (162 kB)\n",
            "\u001b[2K     \u001b[90m━━━━━━━━━━━━━━━━━━━━━━━━━━━━━━━━━━━━━━━━\u001b[0m \u001b[32m162.6/162.6 kB\u001b[0m \u001b[31m4.1 MB/s\u001b[0m eta \u001b[36m0:00:00\u001b[0m\n",
            "\u001b[?25h  Preparing metadata (setup.py) ... \u001b[?25l\u001b[?25hdone\n",
            "Building wheels for collected packages: pylatexenc\n",
            "  Building wheel for pylatexenc (setup.py) ... \u001b[?25l\u001b[?25hdone\n",
            "  Created wheel for pylatexenc: filename=pylatexenc-2.10-py3-none-any.whl size=136817 sha256=50866a80f7b9ccc7943c65eff6d57c36f1e50080c2e5048f7e60636166c70b17\n",
            "  Stored in directory: /root/.cache/pip/wheels/d3/31/8b/e09b0386afd80cfc556c00408c9aeea5c35c4d484a9c762fd5\n",
            "Successfully built pylatexenc\n",
            "Installing collected packages: pylatexenc\n",
            "Successfully installed pylatexenc-2.10\n"
          ]
        }
      ]
    },
    {
      "cell_type": "code",
      "source": [
        "pip install 'qiskit==1.2.0rc1'"
      ],
      "metadata": {
        "colab": {
          "base_uri": "https://localhost:8080/"
        },
        "id": "yBjoa7FmR8de",
        "outputId": "2a6e31fb-c652-469a-f1fc-cde25c5259b8"
      },
      "execution_count": null,
      "outputs": [
        {
          "output_type": "stream",
          "name": "stdout",
          "text": [
            "Collecting qiskit==1.2.0rc1\n",
            "  Downloading qiskit-1.2.0rc1-cp38-abi3-manylinux_2_17_x86_64.manylinux2014_x86_64.whl.metadata (12 kB)\n",
            "Requirement already satisfied: rustworkx>=0.15.0 in /usr/local/lib/python3.10/dist-packages (from qiskit==1.2.0rc1) (0.15.1)\n",
            "Requirement already satisfied: numpy<3,>=1.17 in /usr/local/lib/python3.10/dist-packages (from qiskit==1.2.0rc1) (1.26.4)\n",
            "Requirement already satisfied: scipy>=1.5 in /usr/local/lib/python3.10/dist-packages (from qiskit==1.2.0rc1) (1.13.1)\n",
            "Requirement already satisfied: sympy>=1.3 in /usr/local/lib/python3.10/dist-packages (from qiskit==1.2.0rc1) (1.13.2)\n",
            "Requirement already satisfied: dill>=0.3 in /usr/local/lib/python3.10/dist-packages (from qiskit==1.2.0rc1) (0.3.8)\n",
            "Requirement already satisfied: python-dateutil>=2.8.0 in /usr/local/lib/python3.10/dist-packages (from qiskit==1.2.0rc1) (2.8.2)\n",
            "Requirement already satisfied: stevedore>=3.0.0 in /usr/local/lib/python3.10/dist-packages (from qiskit==1.2.0rc1) (5.3.0)\n",
            "Requirement already satisfied: typing-extensions in /usr/local/lib/python3.10/dist-packages (from qiskit==1.2.0rc1) (4.12.2)\n",
            "Requirement already satisfied: symengine>=0.11 in /usr/local/lib/python3.10/dist-packages (from qiskit==1.2.0rc1) (0.11.0)\n",
            "Requirement already satisfied: six>=1.5 in /usr/local/lib/python3.10/dist-packages (from python-dateutil>=2.8.0->qiskit==1.2.0rc1) (1.16.0)\n",
            "Requirement already satisfied: pbr>=2.0.0 in /usr/local/lib/python3.10/dist-packages (from stevedore>=3.0.0->qiskit==1.2.0rc1) (6.1.0)\n",
            "Requirement already satisfied: mpmath<1.4,>=1.1.0 in /usr/local/lib/python3.10/dist-packages (from sympy>=1.3->qiskit==1.2.0rc1) (1.3.0)\n",
            "Downloading qiskit-1.2.0rc1-cp38-abi3-manylinux_2_17_x86_64.manylinux2014_x86_64.whl (4.7 MB)\n",
            "\u001b[2K   \u001b[90m━━━━━━━━━━━━━━━━━━━━━━━━━━━━━━━━━━━━━━━━\u001b[0m \u001b[32m4.7/4.7 MB\u001b[0m \u001b[31m7.0 MB/s\u001b[0m eta \u001b[36m0:00:00\u001b[0m\n",
            "\u001b[?25hInstalling collected packages: qiskit\n",
            "  Attempting uninstall: qiskit\n",
            "    Found existing installation: qiskit 1.2.1\n",
            "    Uninstalling qiskit-1.2.1:\n",
            "      Successfully uninstalled qiskit-1.2.1\n",
            "Successfully installed qiskit-1.2.0rc1\n"
          ]
        }
      ]
    },
    {
      "cell_type": "code",
      "source": [
        "pip install qiskit qiskit-aer qiskit-ibm-provider"
      ],
      "metadata": {
        "colab": {
          "base_uri": "https://localhost:8080/"
        },
        "id": "btfWppYsSX3b",
        "outputId": "b803faa2-8a2f-42d5-964c-0b70ec81d80c"
      },
      "execution_count": null,
      "outputs": [
        {
          "output_type": "stream",
          "name": "stdout",
          "text": [
            "Requirement already satisfied: qiskit in /usr/local/lib/python3.10/dist-packages (1.2.0rc1)\n",
            "Requirement already satisfied: qiskit-aer in /usr/local/lib/python3.10/dist-packages (0.15.1)\n",
            "Collecting qiskit-ibm-provider\n",
            "  Downloading qiskit_ibm_provider-0.11.0-py3-none-any.whl.metadata (7.6 kB)\n",
            "Requirement already satisfied: rustworkx>=0.15.0 in /usr/local/lib/python3.10/dist-packages (from qiskit) (0.15.1)\n",
            "Requirement already satisfied: numpy<3,>=1.17 in /usr/local/lib/python3.10/dist-packages (from qiskit) (1.26.4)\n",
            "Requirement already satisfied: scipy>=1.5 in /usr/local/lib/python3.10/dist-packages (from qiskit) (1.13.1)\n",
            "Requirement already satisfied: sympy>=1.3 in /usr/local/lib/python3.10/dist-packages (from qiskit) (1.13.2)\n",
            "Requirement already satisfied: dill>=0.3 in /usr/local/lib/python3.10/dist-packages (from qiskit) (0.3.8)\n",
            "Requirement already satisfied: python-dateutil>=2.8.0 in /usr/local/lib/python3.10/dist-packages (from qiskit) (2.8.2)\n",
            "Requirement already satisfied: stevedore>=3.0.0 in /usr/local/lib/python3.10/dist-packages (from qiskit) (5.3.0)\n",
            "Requirement already satisfied: typing-extensions in /usr/local/lib/python3.10/dist-packages (from qiskit) (4.12.2)\n",
            "Requirement already satisfied: symengine>=0.11 in /usr/local/lib/python3.10/dist-packages (from qiskit) (0.11.0)\n",
            "Requirement already satisfied: psutil>=5 in /usr/local/lib/python3.10/dist-packages (from qiskit-aer) (5.9.5)\n",
            "Requirement already satisfied: requests>=2.19 in /usr/local/lib/python3.10/dist-packages (from qiskit-ibm-provider) (2.32.3)\n",
            "Collecting requests-ntlm>=1.1.0 (from qiskit-ibm-provider)\n",
            "  Downloading requests_ntlm-1.3.0-py3-none-any.whl.metadata (2.4 kB)\n",
            "Requirement already satisfied: urllib3>=1.21.1 in /usr/local/lib/python3.10/dist-packages (from qiskit-ibm-provider) (2.0.7)\n",
            "Requirement already satisfied: websocket-client>=1.5.1 in /usr/local/lib/python3.10/dist-packages (from qiskit-ibm-provider) (1.8.0)\n",
            "Collecting websockets>=10.0 (from qiskit-ibm-provider)\n",
            "  Downloading websockets-13.0.1-cp310-cp310-manylinux_2_5_x86_64.manylinux1_x86_64.manylinux_2_17_x86_64.manylinux2014_x86_64.whl.metadata (6.7 kB)\n",
            "Requirement already satisfied: six>=1.5 in /usr/local/lib/python3.10/dist-packages (from python-dateutil>=2.8.0->qiskit) (1.16.0)\n",
            "Requirement already satisfied: charset-normalizer<4,>=2 in /usr/local/lib/python3.10/dist-packages (from requests>=2.19->qiskit-ibm-provider) (3.3.2)\n",
            "Requirement already satisfied: idna<4,>=2.5 in /usr/local/lib/python3.10/dist-packages (from requests>=2.19->qiskit-ibm-provider) (3.8)\n",
            "Requirement already satisfied: certifi>=2017.4.17 in /usr/local/lib/python3.10/dist-packages (from requests>=2.19->qiskit-ibm-provider) (2024.8.30)\n",
            "Requirement already satisfied: cryptography>=1.3 in /usr/local/lib/python3.10/dist-packages (from requests-ntlm>=1.1.0->qiskit-ibm-provider) (43.0.1)\n",
            "Collecting pyspnego>=0.4.0 (from requests-ntlm>=1.1.0->qiskit-ibm-provider)\n",
            "  Downloading pyspnego-0.11.1-py3-none-any.whl.metadata (5.4 kB)\n",
            "Requirement already satisfied: pbr>=2.0.0 in /usr/local/lib/python3.10/dist-packages (from stevedore>=3.0.0->qiskit) (6.1.0)\n",
            "Requirement already satisfied: mpmath<1.4,>=1.1.0 in /usr/local/lib/python3.10/dist-packages (from sympy>=1.3->qiskit) (1.3.0)\n",
            "Requirement already satisfied: cffi>=1.12 in /usr/local/lib/python3.10/dist-packages (from cryptography>=1.3->requests-ntlm>=1.1.0->qiskit-ibm-provider) (1.17.1)\n",
            "Requirement already satisfied: pycparser in /usr/local/lib/python3.10/dist-packages (from cffi>=1.12->cryptography>=1.3->requests-ntlm>=1.1.0->qiskit-ibm-provider) (2.22)\n",
            "Downloading qiskit_ibm_provider-0.11.0-py3-none-any.whl (249 kB)\n",
            "\u001b[2K   \u001b[90m━━━━━━━━━━━━━━━━━━━━━━━━━━━━━━━━━━━━━━━━\u001b[0m \u001b[32m249.9/249.9 kB\u001b[0m \u001b[31m7.4 MB/s\u001b[0m eta \u001b[36m0:00:00\u001b[0m\n",
            "\u001b[?25hDownloading requests_ntlm-1.3.0-py3-none-any.whl (6.6 kB)\n",
            "Downloading websockets-13.0.1-cp310-cp310-manylinux_2_5_x86_64.manylinux1_x86_64.manylinux_2_17_x86_64.manylinux2014_x86_64.whl (157 kB)\n",
            "\u001b[2K   \u001b[90m━━━━━━━━━━━━━━━━━━━━━━━━━━━━━━━━━━━━━━━━\u001b[0m \u001b[32m157.3/157.3 kB\u001b[0m \u001b[31m10.3 MB/s\u001b[0m eta \u001b[36m0:00:00\u001b[0m\n",
            "\u001b[?25hDownloading pyspnego-0.11.1-py3-none-any.whl (130 kB)\n",
            "\u001b[2K   \u001b[90m━━━━━━━━━━━━━━━━━━━━━━━━━━━━━━━━━━━━━━━━\u001b[0m \u001b[32m130.5/130.5 kB\u001b[0m \u001b[31m9.3 MB/s\u001b[0m eta \u001b[36m0:00:00\u001b[0m\n",
            "\u001b[?25hInstalling collected packages: websockets, pyspnego, requests-ntlm, qiskit-ibm-provider\n",
            "Successfully installed pyspnego-0.11.1 qiskit-ibm-provider-0.11.0 requests-ntlm-1.3.0 websockets-13.0.1\n"
          ]
        }
      ]
    },
    {
      "cell_type": "code",
      "source": [
        "from sklearn import model_selection, datasets, svm\n",
        "from qiskit import QuantumCircuit, QuantumRegister, ClassicalRegister\n",
        "from qiskit_aer import Aer\n",
        "from qiskit_ibm_provider import IBMProvider\n",
        "import qiskit\n",
        "import copy\n",
        "import matplotlib.pyplot as plt\n",
        "import numpy as np"
      ],
      "metadata": {
        "colab": {
          "base_uri": "https://localhost:8080/"
        },
        "id": "aX3plMs8T-Jz",
        "outputId": "6097102a-3b20-41ca-caed-274f2452bcaa"
      },
      "execution_count": null,
      "outputs": [
        {
          "output_type": "stream",
          "name": "stderr",
          "text": [
            "<ipython-input-5-ef49ead52fe9>:4: DeprecationWarning: The package qiskit_ibm_provider is being deprecated. Please see https://docs.quantum.ibm.com/api/migration-guides/qiskit-runtime to get instructions on how to migrate to qiskit-ibm-runtime (https://github.com/Qiskit/qiskit-ibm-runtime).\n",
            "  from qiskit_ibm_provider import IBMProvider\n"
          ]
        }
      ]
    },
    {
      "cell_type": "code",
      "source": [
        "iris = datasets.load_iris()"
      ],
      "metadata": {
        "id": "77nTUvpGUGU3"
      },
      "execution_count": null,
      "outputs": []
    },
    {
      "cell_type": "code",
      "source": [
        "X = iris.data[0:100]\n",
        "Y = iris.target[0:100]\n",
        "X_train, X_test, Y_train, Y_test = model_selection.train_test_split(X,Y,test_size=0.3,random_state=69)\n"
      ],
      "metadata": {
        "id": "I9x2igUsUIQC"
      },
      "execution_count": null,
      "outputs": []
    },
    {
      "cell_type": "code",
      "source": [
        "# Number of features\n",
        "N = 4\n",
        "\n",
        "## Here, N = 4 indicates that the quantum circuit will handle 4 qubits, which corresponds to 4 input features for the quantum neural network.\n",
        "\n",
        "# Function to create the feature map quantum circuit\n",
        "def feature_map(X):\n",
        "    # Create quantum registers and classical register\n",
        "    q = QuantumRegister(N)\n",
        "    c = ClassicalRegister(1)\n",
        "    qc = QuantumCircuit(q, c)\n",
        "\n",
        "    # Apply X rotation gates based on input features\n",
        "    for i, x in enumerate(X):\n",
        "        qc.rx(x, i)\n",
        "\n",
        "    return qc, c\n",
        "\n",
        "#This function encodes classical input features X into a quantum circuit using RX rotation gates:\n",
        "\n",
        "# X: a list or vector of 4 real values representing the input features (because N = 4).\n",
        "# QuantumRegister(N): Creates a register of 4 qubits (since N = 4).\n",
        "# ClassicalRegister(1): Creates a classical register of 1 bit, which is used to store the measurement result.\n",
        "# QuantumCircuit(q, c): Combines the quantum and classical registers into a quantum circuit.\n",
        "# For each feature value x in the list X, it applies an RX rotation gate to the corresponding qubit in the quantum circuit. The rotation gate, qc.rx(x, i), rotates qubit i by the angle x about the X-axis of the Bloch sphere.\n",
        "\n",
        "# Function to create the variational circuit\n",
        "def variational_circuit(qc, theta):\n",
        "    # Apply entangling gates (CNOT) and Y rotation gates based on variational parameters\n",
        "    for i in range(N - 1):\n",
        "        qc.cnot(i, i + 1)\n",
        "    qc.cnot(N - 1, 0)\n",
        "    for i in range(N):\n",
        "        qc.ry(theta[i], i)\n",
        "\n",
        "    return qc\n",
        "\n",
        "# This function adds a variational circuit to the feature-mapped circuit. A variational circuit contains gates with tunable parameters (theta) that are optimized during training.\n",
        "# CNOT gates: These are used to create entanglement between the qubits, making them interact with each other. CNOT gates are applied between qubits i and i + 1, with an additional CNOT gate between the last and the first qubit (i.e., N - 1 and 0), creating a circular entanglement.\n",
        "# RY gates: After entangling the qubits, RY rotation gates are applied to each qubit. These gates rotate the qubits around the Y-axis, and their angles are determined by the list of variational parameters theta. This makes the quantum circuit tunable.\n",
        "\n",
        "# Main quantum neural network function\n",
        "def quantum_nn(X, theta):\n",
        "    # Create the quantum circuit using the feature map and variational circuit\n",
        "    qc, c = feature_map(X)\n",
        "    qc = variational_circuit(qc, theta)\n",
        "\n",
        "    # Measure the output qubit\n",
        "    qc.measure(0, c)\n",
        "\n",
        "    # Configure simulation parameters\n",
        "    shots = 1E4\n",
        "    backend = Aer.get_backend(\"qasm_simulator\")\n",
        "\n",
        "    # Execute the quantum circuit on the chosen backend\n",
        "    job = qiskit.execute(qc, backend, shots=shots)\n",
        "    result = job.result()\n",
        "\n",
        "    # Retrieve and return the probability of the output state being |1|\n",
        "    counts = result.get_counts(qc)\n",
        "    return counts[\"1\"] / shots\n",
        "\n",
        "# Input X: Classical input features encoded into the quantum state via RX gates.\n",
        "# Variational Circuit: Contains tunable RY rotation gates and entangling CNOT gates.\n",
        "# Measurement: The probability of measuring the outcome is calculated after running the circuit multiple times (10,000 times in this case).\n",
        "# This forms the basis of a quantum neural network where theta represents the parameters to be trained, typically through optimization techniques.\n"
      ],
      "metadata": {
        "id": "jfnmlj04UT21"
      },
      "execution_count": null,
      "outputs": []
    },
    {
      "cell_type": "code",
      "source": [
        "def loss(prediction, target):\n",
        "      return (target - prediction)**2"
      ],
      "metadata": {
        "id": "-3ZbgOJrUWV9"
      },
      "execution_count": null,
      "outputs": []
    },
    {
      "cell_type": "code",
      "source": [
        "import copy\n",
        "\n",
        "def gradient(X, Y, theta):\n",
        "    #Compute the gradient of the quantum neural network loss with respect to each parameter in theta.\n",
        "\n",
        "    delta = 0.01  # Step size for finite differences\n",
        "    grad = []     # Initialize gradient vector\n",
        "\n",
        "    # Compute partial derivatives for each parameter in theta\n",
        "    for i in range(len(theta)):\n",
        "        dtheta = copy.copy(theta)\n",
        "        dtheta[i] += delta\n",
        "\n",
        "        # Calculate predictions for perturbed and original theta values\n",
        "        pred1 = quantum_nn(X, dtheta)\n",
        "        pred2 = quantum_nn(X, theta)\n",
        "\n",
        "        # Use finite differences to approximate the partial derivative\n",
        "        grad.append((loss(pred1, Y) - loss(pred2, Y)) / delta)\n",
        "\n",
        "    return np.array(grad)\n"
      ],
      "metadata": {
        "id": "FvsUVyc5Uc91"
      },
      "execution_count": null,
      "outputs": []
    },
    {
      "cell_type": "code",
      "source": [
        "def accuracy(X, Y, theta):\n",
        "\n",
        "      counter = 0\n",
        "      for X_i, Y_i in zip(X, Y):\n",
        "\n",
        "          prediction = quantum_nn(X_i, theta)\n",
        "\n",
        "          if prediction < 0.5 and Y_i == 0:\n",
        "               counter +=1\n",
        "          elif prediction >= 0.5 and Y_i == 1:\n",
        "               counter +=1\n",
        "      return counter/len(Y)"
      ],
      "metadata": {
        "id": "vRObSoiAUbbN"
      },
      "execution_count": null,
      "outputs": []
    },
    {
      "cell_type": "code",
      "source": [
        "def variational_circuit(qc, theta):\n",
        "    # Apply entangling gates (CX) and Y rotation gates based on variational parameters\n",
        "    for i in range(N - 1):\n",
        "        qc.cx(i, i + 1)  # Changed from qc.cnot to qc.cx\n",
        "    qc.cx(N - 1, 0)  # Changed from qc.cnot to qc.cx\n",
        "    for i in range(N):\n",
        "        qc.ry(theta[i], i)\n",
        "\n",
        "    return qc\n"
      ],
      "metadata": {
        "id": "bU_4RwjnUfVd"
      },
      "execution_count": null,
      "outputs": []
    },
    {
      "cell_type": "code",
      "source": [
        "import numpy as np\n",
        "from qiskit import QuantumCircuit, QuantumRegister, ClassicalRegister\n",
        "from qiskit_aer import Aer\n",
        "\n",
        "def feature_map(X):\n",
        "    # Create quantum and classical registers\n",
        "    qr = QuantumRegister(N)\n",
        "    cr = ClassicalRegister(1)\n",
        "    qc = QuantumCircuit(qr, cr)\n",
        "\n",
        "    # Encode classical data into quantum state\n",
        "    for i in range(N):\n",
        "        qc.ry(X[i], i)\n",
        "\n",
        "    return qc, cr\n",
        "\n",
        "def variational_circuit(qc, theta):\n",
        "    # Apply entangling gates (CX) and Y rotation gates based on variational parameters\n",
        "    for i in range(N - 1):\n",
        "        qc.cx(i, i + 1)\n",
        "    qc.cx(N - 1, 0)\n",
        "    for i in range(N):\n",
        "        qc.ry(theta[i], i)\n",
        "\n",
        "    return qc\n",
        "\n",
        "def quantum_nn(X, theta):\n",
        "    # Create the quantum circuit using the feature map and variational circuit\n",
        "    qc, cr = feature_map(X)\n",
        "    qc = variational_circuit(qc, theta)\n",
        "\n",
        "    # Measure the output qubit\n",
        "    qc.measure(0, cr)\n",
        "\n",
        "    # Run the quantum circuit\n",
        "    backend = Aer.get_backend('qasm_simulator')\n",
        "    job = backend.run(qc, shots=1000)\n",
        "    result = job.result()\n",
        "    counts = result.get_counts(qc)\n",
        "\n",
        "    # Calculate the probability of measuring |1>\n",
        "    return counts.get('1', 0) / 1000\n",
        "\n",
        "def loss(prediction, true_label):\n",
        "    return (prediction - true_label) ** 2\n",
        "\n",
        "def gradient(X, Y, theta):\n",
        "    epsilon = 0.01\n",
        "    grad = np.zeros_like(theta)\n",
        "    for i in range(len(theta)):\n",
        "        theta_plus = theta.copy()\n",
        "        theta_plus[i] += epsilon\n",
        "        theta_minus = theta.copy()\n",
        "        theta_minus[i] -= epsilon\n",
        "        grad[i] = (quantum_nn(X, theta_plus) - quantum_nn(X, theta_minus)) / (2 * epsilon)\n",
        "    return grad * (quantum_nn(X, theta) - Y)\n",
        "\n",
        "def accuracy(X, Y, theta):\n",
        "    correct = 0\n",
        "    for X_i, Y_i in zip(X, Y):\n",
        "        prediction = quantum_nn(X_i, theta)\n",
        "        if (prediction > 0.5 and Y_i == 1) or (prediction <= 0.5 and Y_i == 0):\n",
        "            correct += 1\n",
        "    return correct / len(Y)"
      ],
      "metadata": {
        "id": "9QmrHcOiUhgd"
      },
      "execution_count": null,
      "outputs": []
    },
    {
      "cell_type": "code",
      "source": [
        "import numpy as np\n",
        "import matplotlib.pyplot as plt\n",
        "\n",
        "# Assuming N, X_train, and Y_train are defined\n",
        "N = len(X_train[0])  # Number of features\n",
        "\n",
        "eta = 0.05  # Learning rate\n",
        "loss_list = []  # List to store losses during training\n",
        "theta = np.ones(N)  # Initial parameter values\n",
        "print(\"Epoch \\t Loss \\t Training Accuracy\")\n",
        "# Training epochs\n",
        "for i in range(20):\n",
        "    loss_tmp = []  # Temporary list to store losses for each training sample\n",
        "    # Iterate over training samples\n",
        "    for X_i, Y_i in zip(X_train, Y_train):\n",
        "        # Calculate prediction and loss for the current sample\n",
        "        prediction = quantum_nn(X_i, theta)\n",
        "        loss_tmp.append(loss(prediction, Y_i))\n",
        "        # Update theta using gradient descent rule\n",
        "        theta = theta - eta * gradient(X_i, Y_i, theta)\n",
        "    # Calculate and store the mean loss for the epoch\n",
        "    loss_list.append(np.mean(loss_tmp))\n",
        "    # Calculate and print training accuracy for the epoch\n",
        "    acc = accuracy(X_train, Y_train, theta)\n",
        "    print(f\"{i} \\t {loss_list[-1]:.3f} \\t {acc:.3f}\")\n",
        "\n",
        "# Plotting the loss\n",
        "plt.figure(figsize=(10, 6))\n",
        "plt.plot(loss_list)\n",
        "plt.xlabel(\"Epoch\")\n",
        "plt.ylabel(\"Loss\")\n",
        "plt.title(\"Training Loss over Epochs\")\n",
        "plt.grid(True)\n",
        "plt.show()"
      ],
      "metadata": {
        "colab": {
          "base_uri": "https://localhost:8080/",
          "height": 910
        },
        "id": "GlALutzPUlLa",
        "outputId": "d6dd77f5-6323-4745-80d2-6e69bb97d809"
      },
      "execution_count": null,
      "outputs": [
        {
          "output_type": "stream",
          "name": "stdout",
          "text": [
            "Epoch \t Loss \t Training Accuracy\n",
            "0 \t 0.369 \t 0.214\n",
            "1 \t 0.325 \t 0.229\n",
            "2 \t 0.300 \t 0.257\n",
            "3 \t 0.305 \t 0.229\n",
            "4 \t 0.332 \t 0.243\n",
            "5 \t 0.303 \t 0.486\n",
            "6 \t 0.259 \t 0.400\n",
            "7 \t 0.247 \t 0.571\n",
            "8 \t 0.228 \t 0.643\n",
            "9 \t 0.220 \t 0.600\n",
            "10 \t 0.235 \t 0.600\n",
            "11 \t 0.226 \t 0.571\n",
            "12 \t 0.235 \t 0.614\n",
            "13 \t 0.211 \t 0.629\n",
            "14 \t 0.206 \t 0.686\n",
            "15 \t 0.201 \t 0.643\n",
            "16 \t 0.191 \t 0.700\n",
            "17 \t 0.181 \t 0.743\n",
            "18 \t 0.173 \t 0.857\n",
            "19 \t 0.170 \t 0.814\n"
          ]
        },
        {
          "output_type": "display_data",
          "data": {
            "text/plain": [
              "<Figure size 1000x600 with 1 Axes>"
            ],
            "image/png": "[encoded data removed]"
          },
          "metadata": {}
        }
      ]
    },
    {
      "cell_type": "code",
      "source": [
        "accuracy = accuracy(X_test, Y_test, theta)\n",
        "accuracy *=100\n",
        "print(f\"Accuracy {accuracy} %\")"
      ],
      "metadata": {
        "colab": {
          "base_uri": "https://localhost:8080/"
        },
        "id": "Y322pt1NUnxY",
        "outputId": "8beb6598-6ee0-4c52-d2cc-3eb950608a10"
      },
      "execution_count": null,
      "outputs": [
        {
          "output_type": "stream",
          "name": "stdout",
          "text": [
            "Accuracy 83.33333333333334 %\n"
          ]
        }
      ]
    },
    {
      "cell_type": "code",
      "source": [],
      "metadata": {
        "id": "g6DtwzCkUxzj"
      },
      "execution_count": null,
      "outputs": []
    }
  ]
}